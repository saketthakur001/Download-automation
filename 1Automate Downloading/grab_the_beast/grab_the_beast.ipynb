{
 "cells": [
  {
   "cell_type": "code",
   "execution_count": 1,
   "metadata": {},
   "outputs": [],
   "source": [
    "import requests \n",
    "from bs4 import BeautifulSoup\n",
    "\n",
    "def google_search(term, num_results=10, lang=\"en\"):\n",
    "    usr_agent = {\n",
    "        'User-Agent': 'Mozilla/5.0 (Windows NT 10.0; Win64; x64) AppleWebKit/537.36 (KHTML, like Gecko) '\n",
    "                      'Chrome/61.0.3163.100 Safari/537.36'}\n",
    "\n",
    "    def fetch_results(search_term, number_results, language_code):\n",
    "        escaped_search_term = search_term.replace(' ', '+')\n",
    "\n",
    "        google_url = 'https://www.google.com/search?q={}&num={}&hl={}'.format(escaped_search_term, number_results+1,\n",
    "                                                                              language_code)\n",
    "        response = requests.get(google_url, headers=usr_agent)\n",
    "        response.raise_for_status()\n",
    "\n",
    "        return response.text\n",
    "\n",
    "    def parse_results(raw_html):\n",
    "        soup = BeautifulSoup(raw_html, 'html.parser')\n",
    "        result_block = soup.find_all('div', attrs={'class': 'g'})\n",
    "        for result in result_block:\n",
    "            link = result.find('a', href=True)\n",
    "            title = result.find('h3')\n",
    "            if link and title:\n",
    "                yield link['href']\n",
    "\n",
    "    html = fetch_results(term, num_results, lang)\n",
    "    return list(parse_results(html))\n",
    "\n",
    "def grabit(q):# Grab the beast\n",
    "    query = q+' gotytv.com'\n",
    "    result = google_search(query)\n",
    "    page = requests.get(result[0])\n",
    "    return page.content\n",
    "\n",
    "# grabit('locke and key')"
   ]
  },
  {
   "cell_type": "code",
   "execution_count": 3,
   "metadata": {},
   "outputs": [
    {
     "name": "stdout",
     "output_type": "stream",
     "text": [
      "The Zen of Python, by Tim Peters\n",
      "\n",
      "Beautiful is better than ugly.\n",
      "Explicit is better than implicit.\n",
      "Simple is better than complex.\n",
      "Complex is better than complicated.\n",
      "Flat is better than nested.\n",
      "Sparse is better than dense.\n",
      "Readability counts.\n",
      "Special cases aren't special enough to break the rules.\n",
      "Although practicality beats purity.\n",
      "Errors should never pass silently.\n",
      "Unless explicitly silenced.\n",
      "In the face of ambiguity, refuse the temptation to guess.\n",
      "There should be one-- and preferably only one --obvious way to do it.\n",
      "Although that way may not be obvious at first unless you're Dutch.\n",
      "Now is better than never.\n",
      "Although never is often better than *right* now.\n",
      "If the implementation is hard to explain, it's a bad idea.\n",
      "If the implementation is easy to explain, it may be a good idea.\n",
      "Namespaces are one honking great idea -- let's do more of those!\n"
     ]
    }
   ],
   "source": [
    "import this"
   ]
  },
  {
   "cell_type": "markdown",
   "metadata": {},
   "source": []
  }
 ],
 "metadata": {
  "interpreter": {
   "hash": "a4863ed22b1ffde5240afa19ce19a6719c13468c8841ef36dac7170077ab9680"
  },
  "kernelspec": {
   "display_name": "Python 3.8.3 64-bit ('base': conda)",
   "name": "python3"
  },
  "language_info": {
   "codemirror_mode": {
    "name": "ipython",
    "version": 3
   },
   "file_extension": ".py",
   "mimetype": "text/x-python",
   "name": "python",
   "nbconvert_exporter": "python",
   "pygments_lexer": "ipython3",
   "version": "3.8.3"
  },
  "orig_nbformat": 4
 },
 "nbformat": 4,
 "nbformat_minor": 2
}
